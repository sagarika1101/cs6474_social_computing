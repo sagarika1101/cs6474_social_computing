{
 "cells": [
  {
   "cell_type": "code",
   "execution_count": 15,
   "metadata": {},
   "outputs": [],
   "source": [
    "import pandas as pd\n",
    "import numpy as np\n",
    "from sklearn.preprocessing import StandardScaler\n",
    "from sklearn.model_selection import train_test_split\n",
    "from sklearn import svm\n",
    "from sklearn.metrics import classification_report\n",
    "from sklearn.metrics import accuracy_score\n",
    "from sklearn.metrics import precision_recall_fscore_support\n",
    "from sklearn.metrics import roc_auc_score\n",
    "from sklearn.metrics import f1_score"
   ]
  },
  {
   "cell_type": "code",
   "execution_count": 16,
   "metadata": {},
   "outputs": [],
   "source": [
    "#read dataset into dataframe\n",
    "data = pd.read_json (r'pizza_request_dataset.json')"
   ]
  },
  {
   "cell_type": "code",
   "execution_count": 17,
   "metadata": {},
   "outputs": [],
   "source": [
    "#separate x_data and y_data\n",
    "x_data = data.drop(['requester_received_pizza'],axis=1)\n",
    "y_data = data['requester_received_pizza']"
   ]
  },
  {
   "cell_type": "code",
   "execution_count": 18,
   "metadata": {},
   "outputs": [],
   "source": [
    "#make features\n",
    "x_data_df = x_data[['post_was_edited','requester_account_age_in_days_at_request','requester_account_age_in_days_at_retrieval',\n",
    "                'requester_days_since_first_post_on_raop_at_request','requester_days_since_first_post_on_raop_at_retrieval',\n",
    "                'requester_number_of_comments_at_request','requester_number_of_comments_at_retrieval',\n",
    "                'requester_number_of_comments_in_raop_at_request','requester_number_of_comments_in_raop_at_retrieval',\n",
    "                'requester_number_of_posts_at_request','requester_number_of_posts_at_retrieval',\n",
    "                'requester_number_of_posts_on_raop_at_request','requester_number_of_posts_on_raop_at_retrieval',\n",
    "                'requester_number_of_subreddits_at_request','number_of_downvotes_of_request_at_retrieval',\n",
    "                'number_of_upvotes_of_request_at_retrieval','requester_upvotes_minus_downvotes_at_request',\n",
    "                'requester_upvotes_minus_downvotes_at_retrieval','requester_upvotes_plus_downvotes_at_request',\n",
    "                'requester_upvotes_plus_downvotes_at_retrieval','requester_user_flair']]"
   ]
  },
  {
   "cell_type": "code",
   "execution_count": 19,
   "metadata": {},
   "outputs": [
    {
     "name": "stderr",
     "output_type": "stream",
     "text": [
      "/Users/sagarikasrishti/anaconda3/lib/python3.7/site-packages/ipykernel_launcher.py:3: SettingWithCopyWarning: \n",
      "A value is trying to be set on a copy of a slice from a DataFrame.\n",
      "Try using .loc[row_indexer,col_indexer] = value instead\n",
      "\n",
      "See the caveats in the documentation: http://pandas.pydata.org/pandas-docs/stable/indexing.html#indexing-view-versus-copy\n",
      "  This is separate from the ipykernel package so we can avoid doing imports until\n"
     ]
    }
   ],
   "source": [
    "#feature for requester_subreddits_at_request\n",
    "#selecting number of subreddits as feature\n",
    "x_data_df['num_requester_subreddits_at_request'] = x_data['requester_subreddits_at_request'].apply(len)"
   ]
  },
  {
   "cell_type": "code",
   "execution_count": 20,
   "metadata": {},
   "outputs": [],
   "source": [
    "#feature for requester_user_flair\n",
    "x_data_df = pd.get_dummies(x_data_df,prefix=['requester_user_flair'])"
   ]
  },
  {
   "cell_type": "code",
   "execution_count": 21,
   "metadata": {},
   "outputs": [],
   "source": [
    "#normalize\n",
    "scaler = StandardScaler()\n",
    "x_data_df = scaler.fit_transform(x_data_df)"
   ]
  },
  {
   "cell_type": "code",
   "execution_count": 22,
   "metadata": {},
   "outputs": [],
   "source": [
    "#divide into train and test sets\n",
    "x_train, x_test, y_train, y_test = train_test_split(x_data_df, y_data, train_size = 0.90, random_state=100)"
   ]
  },
  {
   "cell_type": "code",
   "execution_count": 23,
   "metadata": {},
   "outputs": [
    {
     "data": {
      "text/plain": [
       "SVC(C=1.0, cache_size=200, class_weight=None, coef0=0.0,\n",
       "    decision_function_shape='ovr', degree=3, gamma='auto_deprecated',\n",
       "    kernel='linear', max_iter=-1, probability=False, random_state=None,\n",
       "    shrinking=True, tol=0.001, verbose=False)"
      ]
     },
     "execution_count": 23,
     "metadata": {},
     "output_type": "execute_result"
    }
   ],
   "source": [
    "#make a svm classifier and train it\n",
    "model_svm = svm.SVC(kernel='linear')\n",
    "model_svm.fit(x_train, y_train)"
   ]
  },
  {
   "cell_type": "code",
   "execution_count": 24,
   "metadata": {},
   "outputs": [],
   "source": [
    "#make predictions\n",
    "y_pred = model_svm.predict(x_test)"
   ]
  },
  {
   "cell_type": "code",
   "execution_count": 25,
   "metadata": {},
   "outputs": [
    {
     "name": "stdout",
     "output_type": "stream",
     "text": [
      "              precision    recall  f1-score   support\n",
      "\n",
      "       False       1.00      1.00      1.00       434\n",
      "        True       1.00      0.99      1.00       134\n",
      "\n",
      "    accuracy                           1.00       568\n",
      "   macro avg       1.00      1.00      1.00       568\n",
      "weighted avg       1.00      1.00      1.00       568\n",
      "\n"
     ]
    }
   ],
   "source": [
    "#metrics\n",
    "print(classification_report(y_test, y_pred))"
   ]
  },
  {
   "cell_type": "code",
   "execution_count": 27,
   "metadata": {},
   "outputs": [
    {
     "data": {
      "text/plain": [
       "0.9962686567164178"
      ]
     },
     "execution_count": 27,
     "metadata": {},
     "output_type": "execute_result"
    }
   ],
   "source": [
    "roc_auc_score(y_test, y_pred)"
   ]
  }
 ],
 "metadata": {
  "kernelspec": {
   "display_name": "Python 3",
   "language": "python",
   "name": "python3"
  },
  "language_info": {
   "codemirror_mode": {
    "name": "ipython",
    "version": 3
   },
   "file_extension": ".py",
   "mimetype": "text/x-python",
   "name": "python",
   "nbconvert_exporter": "python",
   "pygments_lexer": "ipython3",
   "version": "3.7.3"
  }
 },
 "nbformat": 4,
 "nbformat_minor": 2
}
