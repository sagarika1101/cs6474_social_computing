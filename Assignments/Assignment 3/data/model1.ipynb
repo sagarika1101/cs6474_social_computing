{
 "cells": [
  {
   "cell_type": "code",
   "execution_count": 1,
   "metadata": {},
   "outputs": [],
   "source": [
    "import pandas as pd\n",
    "import numpy as np\n",
    "from sklearn.feature_extraction.text import CountVectorizer\n",
    "from sklearn import svm\n",
    "from sklearn.metrics import classification_report\n",
    "from sklearn.metrics import accuracy_score\n",
    "from sklearn.metrics import precision_recall_fscore_support\n",
    "from sklearn.model_selection import train_test_split\n",
    "from sklearn.metrics import roc_auc_score\n",
    "from sklearn.metrics import f1_score"
   ]
  },
  {
   "cell_type": "code",
   "execution_count": 2,
   "metadata": {},
   "outputs": [],
   "source": [
    "#read dataset into dataframe\n",
    "data = pd.read_json (r'pizza_request_dataset.json')"
   ]
  },
  {
   "cell_type": "code",
   "execution_count": 3,
   "metadata": {},
   "outputs": [],
   "source": [
    "#split dataset into train and test sets\n",
    "x_data = data.drop(['requester_received_pizza'],axis=1)\n",
    "y_data = data['requester_received_pizza']\n",
    "x_train_df, x_test_df, y_train_df, y_test_df = train_test_split(x_data, y_data, train_size = 0.90, random_state = 100)"
   ]
  },
  {
   "cell_type": "code",
   "execution_count": 4,
   "metadata": {
    "scrolled": true
   },
   "outputs": [],
   "source": [
    "#complete vocabulary\n",
    "vocab = x_train_df['request_text']\n",
    "vocab = vocab.append(x_test_df['request_text'])"
   ]
  },
  {
   "cell_type": "code",
   "execution_count": 5,
   "metadata": {},
   "outputs": [],
   "source": [
    "#find frequency of each unigram and bigram\n",
    "unigrams = CountVectorizer(ngram_range=(1,1))\n",
    "bigrams = CountVectorizer(ngram_range=(2,2))\n",
    "\n",
    "uni_matrix = unigrams.fit_transform(vocab.values.astype('U'))\n",
    "bi_matrix = bigrams.fit_transform(vocab.values.astype('U'))"
   ]
  },
  {
   "cell_type": "code",
   "execution_count": 6,
   "metadata": {
    "scrolled": true
   },
   "outputs": [],
   "source": [
    "uni_freq = sum(uni_matrix).toarray()[0]\n",
    "uni_freq_df = pd.DataFrame(uni_freq, index=unigrams.get_feature_names(), columns=['frequency'])\n",
    "\n",
    "bi_freq = sum(bi_matrix).toarray()[0]\n",
    "bi_freq_df = pd.DataFrame(bi_freq, index=bigrams.get_feature_names(), columns=['frequency'])"
   ]
  },
  {
   "cell_type": "code",
   "execution_count": 7,
   "metadata": {},
   "outputs": [],
   "source": [
    "#sort in descending order and select top 500\n",
    "uni_freq_df = uni_freq_df.sort_values(['frequency'], ascending=[0])[:500]\n",
    "bi_freq_df = bi_freq_df.sort_values(['frequency'], ascending=[0])[:500]"
   ]
  },
  {
   "cell_type": "code",
   "execution_count": 8,
   "metadata": {},
   "outputs": [],
   "source": [
    "#make features\n",
    "x_train = pd.DataFrame(np.full((x_train_df.shape[0], 1000), np.nan), \n",
    "                       columns = uni_freq_df.index.tolist() + bi_freq_df.index.tolist())\n",
    "x_test = pd.DataFrame(np.full((x_test_df.shape[0], 1000), np.nan), \n",
    "                       columns = uni_freq_df.index.tolist() + bi_freq_df.index.tolist())"
   ]
  },
  {
   "cell_type": "code",
   "execution_count": 9,
   "metadata": {},
   "outputs": [],
   "source": [
    "for i in range(x_train_df.shape[0]):\n",
    "    for j in range(uni_freq_df.shape[0]):\n",
    "        x_train.iloc[i][uni_freq_df.index[j]] = str(x_train_df.iloc[i]['request_text']).count(uni_freq_df.index[j])\n",
    "        x_train.iloc[i][bi_freq_df.index[j]] = str(x_train_df.iloc[i]['request_text']).count(bi_freq_df.index[j])"
   ]
  },
  {
   "cell_type": "code",
   "execution_count": 10,
   "metadata": {
    "scrolled": true
   },
   "outputs": [],
   "source": [
    "for i in range(x_test_df.shape[0]):\n",
    "    for j in range(uni_freq_df.shape[0]):\n",
    "        x_test.iloc[i][uni_freq_df.index[j]] = str(x_test_df.iloc[i]['request_text']).count(uni_freq_df.index[j])\n",
    "        x_test.iloc[i][bi_freq_df.index[j]] = str(x_test_df.iloc[i]['request_text']).count(bi_freq_df.index[j])"
   ]
  },
  {
   "cell_type": "code",
   "execution_count": 11,
   "metadata": {},
   "outputs": [
    {
     "data": {
      "text/plain": [
       "SVC(C=1.0, cache_size=200, class_weight=None, coef0=0.0,\n",
       "    decision_function_shape='ovr', degree=3, gamma='auto_deprecated',\n",
       "    kernel='linear', max_iter=-1, probability=False, random_state=None,\n",
       "    shrinking=True, tol=0.001, verbose=False)"
      ]
     },
     "execution_count": 11,
     "metadata": {},
     "output_type": "execute_result"
    }
   ],
   "source": [
    "#make and fit SVM classifier\n",
    "model_svm = svm.SVC(kernel='linear')\n",
    "model_svm.fit(x_train, y_train_df)"
   ]
  },
  {
   "cell_type": "code",
   "execution_count": 12,
   "metadata": {
    "scrolled": true
   },
   "outputs": [],
   "source": [
    "#make predictions\n",
    "y_pred = model_svm.predict(x_test)"
   ]
  },
  {
   "cell_type": "code",
   "execution_count": 13,
   "metadata": {},
   "outputs": [
    {
     "name": "stdout",
     "output_type": "stream",
     "text": [
      "              precision    recall  f1-score   support\n",
      "\n",
      "       False       0.80      0.88      0.83       434\n",
      "        True       0.41      0.28      0.33       134\n",
      "\n",
      "    accuracy                           0.73       568\n",
      "   macro avg       0.60      0.58      0.58       568\n",
      "weighted avg       0.70      0.73      0.72       568\n",
      "\n"
     ]
    }
   ],
   "source": [
    "#metrics\n",
    "print(classification_report(y_test_df, y_pred))"
   ]
  },
  {
   "cell_type": "code",
   "execution_count": 14,
   "metadata": {},
   "outputs": [
    {
     "data": {
      "text/plain": [
       "0.575847719925717"
      ]
     },
     "execution_count": 14,
     "metadata": {},
     "output_type": "execute_result"
    }
   ],
   "source": [
    "roc_auc_score(y_test_df, y_pred)"
   ]
  },
  {
   "cell_type": "code",
   "execution_count": 18,
   "metadata": {},
   "outputs": [
    {
     "data": {
      "text/plain": [
       "0.3288888888888889"
      ]
     },
     "execution_count": 18,
     "metadata": {},
     "output_type": "execute_result"
    }
   ],
   "source": [
    "f1_score(y_test_df, y_pred)"
   ]
  },
  {
   "cell_type": "code",
   "execution_count": 20,
   "metadata": {},
   "outputs": [
    {
     "data": {
      "text/plain": [
       "(0.7046263226837237, 0.7341549295774648, 0.7150260165702103, None)"
      ]
     },
     "execution_count": 20,
     "metadata": {},
     "output_type": "execute_result"
    }
   ],
   "source": [
    "precision_recall_fscore_support(y_test_df, y_pred, average='weighted')"
   ]
  },
  {
   "cell_type": "code",
   "execution_count": null,
   "metadata": {},
   "outputs": [],
   "source": []
  }
 ],
 "metadata": {
  "kernelspec": {
   "display_name": "Python 3",
   "language": "python",
   "name": "python3"
  },
  "language_info": {
   "codemirror_mode": {
    "name": "ipython",
    "version": 3
   },
   "file_extension": ".py",
   "mimetype": "text/x-python",
   "name": "python",
   "nbconvert_exporter": "python",
   "pygments_lexer": "ipython3",
   "version": "3.7.3"
  }
 },
 "nbformat": 4,
 "nbformat_minor": 2
}
