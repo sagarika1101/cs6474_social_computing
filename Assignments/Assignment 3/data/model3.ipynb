{
 "cells": [
  {
   "cell_type": "code",
   "execution_count": 15,
   "metadata": {},
   "outputs": [],
   "source": [
    "import pandas as pd\n",
    "import numpy as np\n",
    "from sklearn.preprocessing import StandardScaler\n",
    "from sklearn.model_selection import train_test_split\n",
    "from sklearn import svm\n",
    "from sklearn.metrics import classification_report\n",
    "from sklearn.metrics import accuracy_score\n",
    "from sklearn.metrics import precision_recall_fscore_support\n",
    "from sklearn.metrics import roc_auc_score\n",
    "from sklearn.metrics import f1_score\n",
    "import re"
   ]
  },
  {
   "cell_type": "code",
   "execution_count": 16,
   "metadata": {},
   "outputs": [],
   "source": [
    "#read dataset into dataframe\n",
    "data = pd.read_json (r'pizza_request_dataset.json')"
   ]
  },
  {
   "cell_type": "code",
   "execution_count": 17,
   "metadata": {},
   "outputs": [],
   "source": [
    "#separate x_data and y_data\n",
    "x_data_df = data['request_text']\n",
    "y_data = data['requester_received_pizza']"
   ]
  },
  {
   "cell_type": "code",
   "execution_count": 18,
   "metadata": {},
   "outputs": [],
   "source": [
    "#read the narratives\n",
    "f = open('../resources/narratives/desire.txt')\n",
    "desire = f.read().split('\\n')\n",
    "f.close()\n",
    "\n",
    "f = open('../resources/narratives/family.txt')\n",
    "family = f.read().split('\\n')\n",
    "f.close()\n",
    "\n",
    "f = open('../resources/narratives/job.txt')\n",
    "job = f.read().split('\\n')\n",
    "f.close()\n",
    "\n",
    "f = open('../resources/narratives/money.txt')\n",
    "money = f.read().split('\\n')\n",
    "f.close()\n",
    "\n",
    "f = open('../resources/narratives/student.txt')\n",
    "student = f.read().split('\\n')\n",
    "f.close()"
   ]
  },
  {
   "cell_type": "code",
   "execution_count": 19,
   "metadata": {},
   "outputs": [],
   "source": [
    "#make features\n",
    "x_data = pd.DataFrame(np.full((x_data_df.shape[0], 5), np.nan),\n",
    "                     columns = ['desire', 'family', 'job', 'money', 'student'])"
   ]
  },
  {
   "cell_type": "code",
   "execution_count": 20,
   "metadata": {},
   "outputs": [],
   "source": [
    "for i in range(x_data.shape[0]):\n",
    "    num_words = len(re.findall(r'\\w+', x_data_df.iloc[i])) \n",
    "    sum=0\n",
    "    for word in desire:\n",
    "        sum += len(re.findall(word,x_data_df.iloc[i]))\n",
    "    if num_words==0:\n",
    "        x_data.iloc[i][0] = 0.0\n",
    "    else:\n",
    "        x_data.iloc[i][0] = sum/float(num_words)\n",
    "    \n",
    "    sum=0\n",
    "    for word in family:\n",
    "        sum += len(re.findall(word,x_data_df.iloc[i]))\n",
    "    if num_words==0:\n",
    "        x_data.iloc[i][1] = 0.0\n",
    "    else:\n",
    "        x_data.iloc[i][1] = sum/float(num_words)\n",
    "        \n",
    "    sum=0\n",
    "    for word in job:\n",
    "        sum += len(re.findall(word,x_data_df.iloc[i]))\n",
    "    if num_words==0:\n",
    "        x_data.iloc[i][2] = 0.0\n",
    "    else:\n",
    "        x_data.iloc[i][2] = sum/float(num_words)\n",
    "        \n",
    "    sum=0\n",
    "    for word in money:\n",
    "        sum += len(re.findall(word,x_data_df.iloc[i]))\n",
    "    if num_words==0:\n",
    "        x_data.iloc[i][3] = 0.0\n",
    "    else:\n",
    "        x_data.iloc[i][3] = sum/float(num_words)\n",
    "        \n",
    "    sum=0\n",
    "    for word in student:\n",
    "        sum += len(re.findall(word,x_data_df.iloc[i]))\n",
    "    if num_words==0:\n",
    "        x_data.iloc[i][4] = 0.0\n",
    "    else:\n",
    "        x_data.iloc[i][4] = sum/float(num_words)"
   ]
  },
  {
   "cell_type": "code",
   "execution_count": 21,
   "metadata": {},
   "outputs": [],
   "source": [
    "#normalize\n",
    "scaler = StandardScaler()\n",
    "x_data = scaler.fit_transform(x_data)"
   ]
  },
  {
   "cell_type": "code",
   "execution_count": 22,
   "metadata": {},
   "outputs": [],
   "source": [
    "#divide into train and test sets\n",
    "x_train, x_test, y_train, y_test = train_test_split(x_data, y_data, train_size = 0.90, random_state=100)"
   ]
  },
  {
   "cell_type": "code",
   "execution_count": 23,
   "metadata": {},
   "outputs": [
    {
     "data": {
      "text/plain": [
       "SVC(C=1.0, cache_size=200, class_weight=None, coef0=0.0,\n",
       "    decision_function_shape='ovr', degree=3, gamma='auto_deprecated',\n",
       "    kernel='linear', max_iter=-1, probability=False, random_state=None,\n",
       "    shrinking=True, tol=0.001, verbose=False)"
      ]
     },
     "execution_count": 23,
     "metadata": {},
     "output_type": "execute_result"
    }
   ],
   "source": [
    "#make a svm classifier and train it\n",
    "model_svm = svm.SVC(kernel='linear')\n",
    "model_svm.fit(x_train, y_train)"
   ]
  },
  {
   "cell_type": "code",
   "execution_count": 24,
   "metadata": {},
   "outputs": [],
   "source": [
    "#make predictions\n",
    "y_pred = model_svm.predict(x_test)"
   ]
  },
  {
   "cell_type": "code",
   "execution_count": 25,
   "metadata": {},
   "outputs": [
    {
     "name": "stdout",
     "output_type": "stream",
     "text": [
      "              precision    recall  f1-score   support\n",
      "\n",
      "       False       0.76      1.00      0.87       434\n",
      "        True       0.00      0.00      0.00       134\n",
      "\n",
      "    accuracy                           0.76       568\n",
      "   macro avg       0.38      0.50      0.43       568\n",
      "weighted avg       0.58      0.76      0.66       568\n",
      "\n"
     ]
    },
    {
     "name": "stderr",
     "output_type": "stream",
     "text": [
      "/Users/sagarikasrishti/anaconda3/lib/python3.7/site-packages/sklearn/metrics/classification.py:1437: UndefinedMetricWarning: Precision and F-score are ill-defined and being set to 0.0 in labels with no predicted samples.\n",
      "  'precision', 'predicted', average, warn_for)\n"
     ]
    }
   ],
   "source": [
    "#metrics\n",
    "print(classification_report(y_test, y_pred))"
   ]
  },
  {
   "cell_type": "code",
   "execution_count": 26,
   "metadata": {},
   "outputs": [
    {
     "data": {
      "text/plain": [
       "(0.5838251339020036, 0.7640845070422535, 0.6619015490146468, None)"
      ]
     },
     "execution_count": 26,
     "metadata": {},
     "output_type": "execute_result"
    }
   ],
   "source": [
    "precision_recall_fscore_support(y_test, y_pred, average='weighted')"
   ]
  },
  {
   "cell_type": "code",
   "execution_count": 27,
   "metadata": {},
   "outputs": [
    {
     "data": {
      "text/plain": [
       "0.5"
      ]
     },
     "execution_count": 27,
     "metadata": {},
     "output_type": "execute_result"
    }
   ],
   "source": [
    "roc_auc_score(y_test, y_pred)"
   ]
  },
  {
   "cell_type": "code",
   "execution_count": 28,
   "metadata": {},
   "outputs": [
    {
     "name": "stderr",
     "output_type": "stream",
     "text": [
      "/Users/sagarikasrishti/anaconda3/lib/python3.7/site-packages/sklearn/metrics/classification.py:1437: UndefinedMetricWarning: F-score is ill-defined and being set to 0.0 due to no predicted samples.\n",
      "  'precision', 'predicted', average, warn_for)\n"
     ]
    },
    {
     "data": {
      "text/plain": [
       "0.0"
      ]
     },
     "execution_count": 28,
     "metadata": {},
     "output_type": "execute_result"
    }
   ],
   "source": [
    "f1_score(y_test, y_pred)"
   ]
  },
  {
   "cell_type": "code",
   "execution_count": null,
   "metadata": {},
   "outputs": [],
   "source": []
  }
 ],
 "metadata": {
  "kernelspec": {
   "display_name": "Python 3",
   "language": "python",
   "name": "python3"
  },
  "language_info": {
   "codemirror_mode": {
    "name": "ipython",
    "version": 3
   },
   "file_extension": ".py",
   "mimetype": "text/x-python",
   "name": "python",
   "nbconvert_exporter": "python",
   "pygments_lexer": "ipython3",
   "version": "3.7.3"
  }
 },
 "nbformat": 4,
 "nbformat_minor": 2
}
